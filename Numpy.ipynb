{
 "cells": [
  {
   "cell_type": "markdown",
   "metadata": {},
   "source": [
    "# Class Creation"
   ]
  },
  {
   "cell_type": "code",
   "execution_count": null,
   "metadata": {},
   "outputs": [],
   "source": [
    "class MyArray():\n",
    "    \n",
    "    def __init__(self, arr):\n",
    "        self._arr(arr)\n",
    "\n",
    "\n",
    "    def _arr(self, arr):\n",
    "        \"\"\"Setter - Creates an instance of the array\n",
    "        \n",
    "        Performs error checking to ensure that the user has supplied a valid array\n",
    "        Creates the array, a transposed version of the array, and a merged version of the array when the array is 2D (see design paragraph for explanation)\n",
    "        Empty lists are considered invalid\n",
    "        \"\"\"\n",
    "        \n",
    "        # This if statement handles the case where the user has provided a nested list to create a 2D array, with each inner list representing a row in the array\n",
    "        if type(arr) == list and len(arr) > 0 and type(arr[0]) == list:\n",
    "\n",
    "            # Get the length of the first row in the array (which represents the number of columns in the first row), so that we can check if all rows have the same number of columns\n",
    "            num_cols = len(arr[0])\n",
    "\n",
    "            # Iterates through each row in the array and raises a Type Error if the row is not a list\n",
    "            # Also raises a TypeError if the number of columns in a row differs from the first row\n",
    "            for row in arr:\n",
    "                if type(row) != list or len(row) != num_cols:\n",
    "                    raise TypeError(\"Error: Nested list elements must be lists of equal length\")\n",
    "                \n",
    "                else:\n",
    "\n",
    "                    # Iterates through each element in the row and raises a Type Error if the element is not a number\n",
    "                    for elem in row:\n",
    "                        if type(elem) not in (int, float):\n",
    "                            raise TypeError(\"Error: List items must all be numbers\")\n",
    "\n",
    "            # If a Type Error has not been raised at this point, this implies that the 2D array supplied by the user is valid\n",
    "            # Hence, we can create the array, a transposed version of the array, and a merged version of the array (will help with max/min/mean calculations)\n",
    "            self._arr = arr\n",
    "            self._transpose()\n",
    "            self._merge()\n",
    "\n",
    "\n",
    "        # This elif handles the case where the user has provided a single list to create a 1D array\n",
    "        elif type(arr) == list and len(arr) > 0 and type(arr[0]) in (int, float):\n",
    "\n",
    "            # Iterates through each element in the list and raises a Type Error if the element is not a number\n",
    "            for elem in arr:\n",
    "                if type(elem) not in (int, float):\n",
    "                    raise TypeError(\"Error: List items must all be numbers\")\n",
    "\n",
    "            # If a type error has not been raised at this point, this implies that the 1D array supplied by the user is valid\n",
    "            # The max/min/mean methods treat 1D arrays differently to 2D arrays, hence, there is no need to provide alternative representations\n",
    "            self._arr = arr\n",
    "\n",
    "\n",
    "\n",
    "        # If the user has not provided a valid input, produce an error\n",
    "        else:\n",
    "            raise TypeError(\"Error: Argument must be a list (regular or nested)\")\n",
    "\n",
    "\n",
    "    def _transpose(self):\n",
    "        \"\"\"Function transposes the array to make working with axis = 0 easier in the max/min/mean functions\n",
    "        \n",
    "        The transpose function creates an empty array where the number of rows = number of columns in the original array\n",
    "        It then needs to go through each row in the original array and add each element in index i to row i+1 in the transposed array\n",
    "        The result will be that an element in position [i, j] in the original array will be in position [j, i] in the transposed array\n",
    "        \"\"\"\n",
    "\n",
    "        # Create an array with empty rows. The number of empty rows = the number of columns in the original array\n",
    "        self._transposed_arr = []\n",
    "        for i in range(len(self._arr[0])):\n",
    "            self._transposed_arr.append([])\n",
    "\n",
    "        # Iterate through the rows in the original array\n",
    "        for row in self._arr:\n",
    "\n",
    "            # Add each element in index i to row i+1 in the transposed array\n",
    "            for i in range(len(self._arr[0])):\n",
    "                self._transposed_arr[i].append(row[i])\n",
    "\n",
    "\n",
    "    def _merge(self):\n",
    "        \"\"\"Function merges all rows in the array into one big row \n",
    "        \n",
    "        Makes working with arrays easier when the user does not specify an axis in the max/mean/min function\n",
    "        \"\"\"\n",
    "        self._merged_arr = [[]]\n",
    "        \n",
    "        # Iterate through each row and add each row element to one big row in the array\n",
    "        for row in self._arr:\n",
    "            for elem in row:\n",
    "                self._merged_arr[0].append(elem)\n",
    "\n",
    "\n",
    "    def min(self, **kwargs):\n",
    "        \"\"\"Function searches through each row in an array, finds the minimum value in each row, and returns the minimum values\"\"\"\n",
    "\n",
    "        # Function that changes the array representation depending on the axis value and checks for validity of the axis value\n",
    "        arr = self._select_array(kwargs)\n",
    "\n",
    "        # Create a list of zeros to initialise the minimum values\n",
    "        min_list = [0 for x in range(len(arr))]\n",
    "\n",
    "        # Iterate through each row in the array and find the minimum in each row. Send this value to the minimum list initialised above\n",
    "        for i, row in enumerate(arr):\n",
    "            for elem in row:\n",
    "                if elem < min_list[i] or min_list[i] == 0:\n",
    "                    min_list[i] = elem\n",
    "\n",
    "        # Return a single number if the number of rows = 1, else return a list\n",
    "        if len(min_list) == 1:\n",
    "            return min_list[0]\n",
    "\n",
    "        else:\n",
    "            return min_list\n",
    "\n",
    "\n",
    "    def max(self, **kwargs):\n",
    "        \"\"\"Function searches through each row in an array, finds the maximum value in each row, and returns the maximum values\"\"\"\n",
    "\n",
    "        # Function that changes the array representation depending on the axis value and checks for validity of the axis value\n",
    "        arr = self._select_array(kwargs)\n",
    "\n",
    "        # Create a list of zeros to initialise the maximum values\n",
    "        max_list = [0 for x in range(len(arr))]\n",
    "\n",
    "        # Iterate through each row in the array and find the maximum in each row. Send this value to the maximum list defined above\n",
    "        for i, row in enumerate(arr):\n",
    "            for elem in row:\n",
    "                if elem > max_list[i] or max_list[i] == 0:\n",
    "                    max_list[i] = elem\n",
    "\n",
    "        # Return a single number if the number of rows = 1, else return a list\n",
    "        if len(max_list) == 1:\n",
    "            return max_list[0]\n",
    "\n",
    "        else:\n",
    "            return max_list\n",
    "\n",
    "\n",
    "    def mean(self, **kwargs):\n",
    "        \"\"\"Function searches through each row in an array, calculates the mean of each row, and returns the mean values\"\"\"\n",
    "\n",
    "        # Function that changes the array representation depending on the axis value and checks for validity of the axis value\n",
    "        arr = self._select_array(kwargs)\n",
    "\n",
    "        # Create a list of zeros to initialise the means\n",
    "        mean_list = [0 for x in range(len(arr))]\n",
    "\n",
    "        # Iterate through each row in the array and find the mean of each row. Send this value to the mean list defined above\n",
    "        for i, row in enumerate(arr):\n",
    "\n",
    "            # Get the sum of all elements\n",
    "            sum = 0\n",
    "            for elem in row:\n",
    "                sum += elem\n",
    "            \n",
    "            # Divide the sum by the number of elements to get the mean\n",
    "            mean_list[i] = sum / len(row)\n",
    "\n",
    "        # Return a single number if the number of rows = 1, else return a list\n",
    "        if len(mean_list) == 1:\n",
    "            return mean_list[0]\n",
    "\n",
    "        else:\n",
    "            return mean_list\n",
    "\n",
    "\n",
    "    def _select_array(self, kwargs):\n",
    "        \"\"\"Function returns a different array representation depending on the axis passed in by the user\n",
    "        \n",
    "        Also performs error checking to ensure that a valid axis has been supplied by the user\n",
    "        The axis can be 0 or 1 for a 2D array and can only be 0 for a 1D array.\n",
    "        Failure to include an axis is also acceptable\n",
    "        \"\"\"\n",
    "\n",
    "        # If test is passed if we are working with a 2-D array\n",
    "        if type(self._arr[0]) == list:\n",
    "\n",
    "            # If test is passed when the user does not supply an argument in the method call\n",
    "            if len(kwargs) == 0:\n",
    "                return self._merged_arr\n",
    "\n",
    "            # Elif test is passed when the user supplies a keyword argument axis\n",
    "            elif \"axis\" in kwargs:\n",
    "                axis = kwargs[\"axis\"]\n",
    "\n",
    "                # When axis == 0, the user is looking for information about columns, so return the transposed array\n",
    "                if axis == 0:\n",
    "                    return self._transposed_arr\n",
    "\n",
    "                # When axis == 1, the user is looking for information about rows, so return the normal array\n",
    "                elif axis == 1:\n",
    "                    return self._arr\n",
    "\n",
    "                # If the axis is not equal to 0 or 1, it is invalid\n",
    "                else:\n",
    "                    raise TypeError(\"Error: Invalid axis supplied\")\n",
    "\n",
    "            # Else, the user has not supplied an axis keyword argument\n",
    "            else:\n",
    "                raise TypeError(\"Error: invalid keyword arguments supplied\")\n",
    "        \n",
    "\n",
    "        # Else, we are working with a 1-D array\n",
    "        else:\n",
    "            # If test is passed if the user either supplies no keyword arguments, or supplies axis = 0 as the keyword argument\n",
    "            if (len(kwargs) == 0 or (\"axis\" in kwargs and kwargs[\"axis\"] == 0)):\n",
    "                return [self._arr]\n",
    "\n",
    "            # Else, the user has supplied an invalid axis value, or has supplied too many keyword arguments\n",
    "            else:\n",
    "                raise TypeError(\"Error: Invalid Input\")\n",
    "\n",
    "\n",
    "    def copy(self):\n",
    "        \"\"\"Function creates a copy of an instance \n",
    "        \n",
    "        Creates a copy by going through each row in self._arr, converting it to a list, putting these lists in an empty list, and creating a new instance with this list\n",
    "        The first if statement checks if we are working with a 2D or 1D array.\n",
    "        \"\"\"\n",
    "\n",
    "        new_array = []\n",
    "        \n",
    "        if type(self._arr[0]) == list:\n",
    "            for row in self._arr:\n",
    "                new_array.append(list(row))\n",
    "\n",
    "        else:\n",
    "            for elem in self._arr:\n",
    "                new_array.append(elem)\n",
    "\n",
    "        return MyArray(new_array)\n",
    "\n",
    "\n",
    "    @classmethod\n",
    "    def zeros(cls, *args):\n",
    "        \"\"\"Alternative constructor - Used to create an array of all zeros\n",
    "        \n",
    "        Checks if the correct number of arguments have been supplied - either one or two, else gives an error\n",
    "        Uses list comprehensions to construct an array of zeros given the args\n",
    "        The args specify the number of array rows and columns in the case of a 2D array, and the length of the array in the case of a 1D array\n",
    "        \"\"\"\n",
    "\n",
    "        # Test is passed if the user provides two actual arguments\n",
    "        if len(args) == 2:\n",
    "            arr = [[0 for x in range(args[1])] for x in range(args[0])]\n",
    "\n",
    "        # Test is passed if the user provides one actual argument\n",
    "        elif len(args) == 1:\n",
    "            arr = [0 for x in range(args[0])]\n",
    "\n",
    "        # Else, the user has provided an invalid number of arguments\n",
    "        else:\n",
    "            raise TypeError(\"Error: Invalid Input\")\n",
    "\n",
    "        # Use cls to create an instance of MyArray with arr as an actual argument\n",
    "        zero_arr = cls(arr)\n",
    "        return zero_arr\n",
    "\n",
    "    \n",
    "    def __repr__(self):\n",
    "        \"\"\"Provides a string representation of the MyArray object\"\"\"\n",
    "\n",
    "        arr = self._arr\n",
    "\n",
    "        if type(self._arr[0]) in (int, float):\n",
    "            arr = [self._arr]\n",
    "\n",
    "        the_rep = \"\"\n",
    "\n",
    "        for row in arr:\n",
    "            the_rep += \"| \"\n",
    "\n",
    "            for elem in row:\n",
    "                the_rep += str(elem) + \" \"\n",
    "\n",
    "            the_rep += \"|\\n\"\n",
    "\n",
    "        return the_rep\n",
    "\n",
    "\n",
    "    def __getitem__(self, position):\n",
    "        \"\"\"Allows the user to isolate an element in a specific position in the MyArray object\"\"\"\n",
    "\n",
    "        # Try/except clause ensures that a valid position has been supplied by the user\n",
    "        try:\n",
    "\n",
    "            # If test is passed if we are working with a 2D array\n",
    "            if type(self._arr[0]) == list:\n",
    "                return self._arr[position[0]][position[1]]\n",
    "\n",
    "            # Else, we are working with a 1D array\n",
    "            else:\n",
    "                return self._arr[position]\n",
    "\n",
    "        # Returns an error if the index is invalid\n",
    "        except IndexError:\n",
    "            return \"Error: invalid array position\"\n",
    "        \n",
    "\n",
    "    def __setitem__(self, position, new_val):\n",
    "        \"\"\"Allows the user to set a new value in a specific position in the MyArray object\"\"\"\n",
    "\n",
    "        # Ensures that we are assigning an int or a float as the new element\n",
    "        if type(new_val) not in (int, float):\n",
    "            raise TypeError(\"Error: new value must be an int or a float\")\n",
    "\n",
    "        # Try/except clause ensures that a valid position has been supplied by the user\n",
    "        try:\n",
    "\n",
    "            # If test is passed if we are working with a 2D array\n",
    "            if type(self._arr[0]) == list:\n",
    "                self._arr[position[0]][position[1]] = new_val\n",
    "\n",
    "                # Make sure to update the transposed and merged representations so that they are consistent\n",
    "                self._transpose()\n",
    "                self._merge()\n",
    "\n",
    "            # Else, we are working with a 1D array\n",
    "            else:\n",
    "                self._arr[position] = new_val\n",
    "\n",
    "        # Returns an error if the index is invalid\n",
    "        except IndexError:\n",
    "            return \"Error: invalid array position\"\n",
    "            "
   ]
  },
  {
   "cell_type": "markdown",
   "metadata": {},
   "source": [
    "# Design"
   ]
  },
  {
   "cell_type": "markdown",
   "metadata": {},
   "source": [
    "An instance of the MyArray class defined above is created when either a list with integers or a nested list containing lists with integers is passed in to the constructor. Another condition is that the lists within the nested list must have the same number of entries (same number of columns). An error is given if the user attempts to pass anything else into the constructor, including an empty list. A setter method is called in the constructor when an array is passed in. This setter includes error checking to ensure that the input is valid. \n",
    "\n",
    "2D user arrays are stored as nested lists. A transposed version of the user array is also stored, so that when the user wants information about columns in the array instead of rows, the transposed version of the array can be used instead of the normal array, and the same code can be used to get information pertaining to the array columns as was used to get information pertaining to the array rows. Finally, the 2D array is stored as a nested list with only one element, a big list containing all the array values. When the user wants information pertaining to the whole array, as opposed to specific rows or columns within the array, the merged array can be used. 1D user arrays are stored as a regular list (no nesting), however, in some functions this list is wrapped in the outer list so that the same code for the 2D arrays can be applied to the 1D array. "
   ]
  },
  {
   "cell_type": "markdown",
   "metadata": {},
   "source": [
    "# Testing"
   ]
  },
  {
   "cell_type": "markdown",
   "metadata": {},
   "source": [
    "## 1D array testing"
   ]
  },
  {
   "cell_type": "markdown",
   "metadata": {},
   "source": [
    "### Construction of the array"
   ]
  },
  {
   "cell_type": "code",
   "execution_count": null,
   "metadata": {},
   "outputs": [],
   "source": [
    "ma1 = MyArray([7, 2, 8])"
   ]
  },
  {
   "cell_type": "markdown",
   "metadata": {},
   "source": [
    "### Representation of the array"
   ]
  },
  {
   "cell_type": "code",
   "execution_count": null,
   "metadata": {},
   "outputs": [],
   "source": [
    "ma1"
   ]
  },
  {
   "cell_type": "markdown",
   "metadata": {},
   "source": [
    "### Type of array"
   ]
  },
  {
   "cell_type": "code",
   "execution_count": null,
   "metadata": {},
   "outputs": [],
   "source": [
    "type(ma1)"
   ]
  },
  {
   "cell_type": "markdown",
   "metadata": {},
   "source": [
    "### Invalid 1D arrays"
   ]
  },
  {
   "cell_type": "code",
   "execution_count": null,
   "metadata": {},
   "outputs": [],
   "source": [
    "try:\n",
    "    ma1 = MyArray()\n",
    "    print(\"Valid\")\n",
    "\n",
    "except:\n",
    "    print(\"Invalid\")\n",
    "\n",
    "try:\n",
    "    ma1 = MyArray(7, 2, 8)\n",
    "    print(\"Valid\")\n",
    "\n",
    "except:\n",
    "    print(\"Invalid\")\n",
    "\n",
    "try:\n",
    "    ma1 = MyArray((7, 2, 8))\n",
    "    print(\"Valid\")\n",
    "\n",
    "except:\n",
    "    print(\"Invalid\")\n",
    "\n",
    "try:\n",
    "    ma1 = MyArray([7, 2, 8])\n",
    "    print(\"Valid\")\n",
    "\n",
    "except:\n",
    "    print(\"Invalid\")"
   ]
  },
  {
   "cell_type": "markdown",
   "metadata": {},
   "source": [
    "### Max method"
   ]
  },
  {
   "cell_type": "code",
   "execution_count": null,
   "metadata": {},
   "outputs": [],
   "source": [
    "print(ma1.max())\n",
    "print(ma1.max(axis = 0))\n",
    "\n",
    "try:\n",
    "    print(ma1.max(axis = 1))\n",
    "\n",
    "except:\n",
    "    print(\"Invalid\")\n",
    "\n",
    "try:\n",
    "    print(ma1.max(axis = \"0\"))\n",
    "\n",
    "except:\n",
    "    print(\"Invalid\")"
   ]
  },
  {
   "cell_type": "markdown",
   "metadata": {},
   "source": [
    "### Min method"
   ]
  },
  {
   "cell_type": "code",
   "execution_count": null,
   "metadata": {},
   "outputs": [],
   "source": [
    "print(ma1.min())\n",
    "print(ma1.min(axis = 0))\n",
    "\n",
    "try:\n",
    "    print(ma1.min(axis = 1))\n",
    "\n",
    "except:\n",
    "    print(\"Invalid\")\n",
    "\n",
    "try:\n",
    "    print(ma1.min(axis = \"0\"))\n",
    "\n",
    "except:\n",
    "    print(\"Invalid\")"
   ]
  },
  {
   "cell_type": "markdown",
   "metadata": {},
   "source": [
    "### Mean Method"
   ]
  },
  {
   "cell_type": "code",
   "execution_count": null,
   "metadata": {},
   "outputs": [],
   "source": [
    "print(ma1.mean())\n",
    "print(ma1.mean(axis = 0))\n",
    "\n",
    "try:\n",
    "    print(ma1.mean(axis = 1))\n",
    "\n",
    "except:\n",
    "    print(\"Invalid\")\n",
    "\n",
    "try:\n",
    "    print(ma1.mean(axis = \"0\"))\n",
    "\n",
    "except:\n",
    "    print(\"Invalid\")"
   ]
  },
  {
   "cell_type": "markdown",
   "metadata": {},
   "source": [
    "### Copy method, and set item"
   ]
  },
  {
   "cell_type": "code",
   "execution_count": null,
   "metadata": {},
   "outputs": [],
   "source": [
    "ma1c = ma1.copy()\n",
    "ma1d = ma1\n",
    "ma1[1] = 500\n",
    "ma1"
   ]
  },
  {
   "cell_type": "code",
   "execution_count": null,
   "metadata": {},
   "outputs": [],
   "source": [
    "ma1d"
   ]
  },
  {
   "cell_type": "code",
   "execution_count": null,
   "metadata": {},
   "outputs": [],
   "source": [
    "ma1c"
   ]
  },
  {
   "cell_type": "markdown",
   "metadata": {},
   "source": [
    "### Zeros"
   ]
  },
  {
   "cell_type": "code",
   "execution_count": null,
   "metadata": {},
   "outputs": [],
   "source": [
    "za1 = MyArray.zeros(7)\n",
    "print(za1)\n",
    "\n",
    "try: \n",
    "    za1 = MyArray.zeros(\"7\")\n",
    "\n",
    "except:\n",
    "    print(\"Invalid\")"
   ]
  },
  {
   "cell_type": "markdown",
   "metadata": {},
   "source": [
    "### Get item"
   ]
  },
  {
   "cell_type": "code",
   "execution_count": null,
   "metadata": {},
   "outputs": [],
   "source": [
    "ma1[1]"
   ]
  },
  {
   "cell_type": "markdown",
   "metadata": {},
   "source": [
    "## 2D Array Tests"
   ]
  },
  {
   "cell_type": "markdown",
   "metadata": {},
   "source": [
    "### Construction of the array"
   ]
  },
  {
   "cell_type": "code",
   "execution_count": null,
   "metadata": {},
   "outputs": [],
   "source": [
    "ma1 = MyArray([[7, 2, 8], [3, 4, 5]])"
   ]
  },
  {
   "cell_type": "markdown",
   "metadata": {},
   "source": [
    "### Representation of the array"
   ]
  },
  {
   "cell_type": "code",
   "execution_count": null,
   "metadata": {},
   "outputs": [],
   "source": [
    "ma1"
   ]
  },
  {
   "cell_type": "markdown",
   "metadata": {},
   "source": [
    "### Type of array"
   ]
  },
  {
   "cell_type": "code",
   "execution_count": null,
   "metadata": {},
   "outputs": [],
   "source": [
    "type(ma1)"
   ]
  },
  {
   "cell_type": "markdown",
   "metadata": {},
   "source": [
    "### Invalid 2D arrays"
   ]
  },
  {
   "cell_type": "code",
   "execution_count": null,
   "metadata": {},
   "outputs": [],
   "source": [
    "try:\n",
    "    ma1 = MyArray()\n",
    "    print(\"Valid\")\n",
    "\n",
    "except:\n",
    "    print(\"Invalid\")\n",
    "\n",
    "try:\n",
    "    ma1 = MyArray([7, 2, 8], [3, 4, 5])\n",
    "    print(\"Valid\")\n",
    "\n",
    "except:\n",
    "    print(\"Invalid\")\n",
    "\n",
    "try:\n",
    "    ma1 = MyArray(([7, 2, 8], [3, 4, 5]))\n",
    "    print(\"Valid\")\n",
    "\n",
    "except:\n",
    "    print(\"Invalid\")\n",
    "\n",
    "try:\n",
    "    ma1 = MyArray([[7, 2, 8], [3, 4, 5]])\n",
    "    print(\"Valid\")\n",
    "\n",
    "except:\n",
    "    print(\"Invalid\")"
   ]
  },
  {
   "cell_type": "markdown",
   "metadata": {},
   "source": [
    "### Max method"
   ]
  },
  {
   "cell_type": "code",
   "execution_count": null,
   "metadata": {},
   "outputs": [],
   "source": [
    "print(ma1.max())\n",
    "print(ma1.max(axis = 0))\n",
    "print(ma1.max(axis = 1))\n",
    "\n",
    "try:\n",
    "    print(ma1.max(axis = \"0\"))\n",
    "\n",
    "except:\n",
    "    print(\"Invalid\")"
   ]
  },
  {
   "cell_type": "markdown",
   "metadata": {},
   "source": [
    "### Min method"
   ]
  },
  {
   "cell_type": "code",
   "execution_count": null,
   "metadata": {},
   "outputs": [],
   "source": [
    "print(ma1.min())\n",
    "print(ma1.min(axis = 0))\n",
    "print(ma1.min(axis = 1))\n",
    "\n",
    "try:\n",
    "    print(ma1.min(axis = \"0\"))\n",
    "\n",
    "except:\n",
    "    print(\"Invalid\")"
   ]
  },
  {
   "cell_type": "markdown",
   "metadata": {},
   "source": [
    "### Mean Method"
   ]
  },
  {
   "cell_type": "code",
   "execution_count": null,
   "metadata": {},
   "outputs": [],
   "source": [
    "print(ma1.mean())\n",
    "print(ma1.mean(axis = 0))\n",
    "print(ma1.mean(axis = 1))\n",
    "\n",
    "try:\n",
    "    print(ma1.mean(axis = \"0\"))\n",
    "\n",
    "except:\n",
    "    print(\"Invalid\")"
   ]
  },
  {
   "cell_type": "markdown",
   "metadata": {},
   "source": [
    "### Copy method, and set item"
   ]
  },
  {
   "cell_type": "code",
   "execution_count": null,
   "metadata": {},
   "outputs": [],
   "source": [
    "ma1c = ma1.copy()\n",
    "ma1d = ma1\n",
    "ma1[1, 1] = 1\n",
    "ma1"
   ]
  },
  {
   "cell_type": "code",
   "execution_count": null,
   "metadata": {},
   "outputs": [],
   "source": [
    "ma1d"
   ]
  },
  {
   "cell_type": "code",
   "execution_count": null,
   "metadata": {},
   "outputs": [],
   "source": [
    "ma1c"
   ]
  },
  {
   "cell_type": "markdown",
   "metadata": {},
   "source": [
    "### Zeros"
   ]
  },
  {
   "cell_type": "code",
   "execution_count": null,
   "metadata": {},
   "outputs": [],
   "source": [
    "za1 = MyArray.zeros(7, 3)\n",
    "print(za1)\n",
    "\n",
    "try: \n",
    "    za1 = MyArray.zeros([7, 3])\n",
    "\n",
    "except:\n",
    "    print(\"Invalid\")"
   ]
  },
  {
   "cell_type": "markdown",
   "metadata": {},
   "source": [
    "### Get item"
   ]
  },
  {
   "cell_type": "code",
   "execution_count": null,
   "metadata": {},
   "outputs": [],
   "source": [
    "ma1[1, 1]"
   ]
  }
 ],
 "metadata": {
  "interpreter": {
   "hash": "54e72497fd64358f52832107e3cdfaf9f975ee2964d8f26ed128ba56fc24de73"
  },
  "kernelspec": {
   "display_name": "Python 3.8.8 64-bit ('base': conda)",
   "language": "python",
   "name": "python3"
  },
  "language_info": {
   "codemirror_mode": {
    "name": "ipython",
    "version": 3
   },
   "file_extension": ".py",
   "mimetype": "text/x-python",
   "name": "python",
   "nbconvert_exporter": "python",
   "pygments_lexer": "ipython3",
   "version": "3.8.8"
  },
  "orig_nbformat": 4
 },
 "nbformat": 4,
 "nbformat_minor": 2
}
